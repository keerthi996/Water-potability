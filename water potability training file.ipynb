{
 "cells": [
  {
   "cell_type": "code",
   "execution_count": 19,
   "metadata": {},
   "outputs": [],
   "source": [
    "import pandas as pd\n",
    "import tensorflow as tf\n",
    "from tensorflow.keras import layers"
   ]
  },
  {
   "cell_type": "code",
   "execution_count": 20,
   "metadata": {},
   "outputs": [
    {
     "name": "stdout",
     "output_type": "stream",
     "text": [
      "<class 'pandas.core.frame.DataFrame'>\n",
      "Int64Index: 3000 entries, 343 to 434\n",
      "Data columns (total 10 columns):\n",
      " #   Column           Non-Null Count  Dtype  \n",
      "---  ------           --------------  -----  \n",
      " 0   ph               2542 non-null   float64\n",
      " 1   Hardness         3000 non-null   float64\n",
      " 2   Solids           3000 non-null   float64\n",
      " 3   Chloramines      3000 non-null   float64\n",
      " 4   Sulfate          2296 non-null   float64\n",
      " 5   Conductivity     3000 non-null   float64\n",
      " 6   Organic_carbon   3000 non-null   float64\n",
      " 7   Trihalomethanes  2850 non-null   float64\n",
      " 8   Turbidity        3000 non-null   float64\n",
      " 9   Potability       3000 non-null   int64  \n",
      "dtypes: float64(9), int64(1)\n",
      "memory usage: 257.8 KB\n",
      "None\n"
     ]
    }
   ],
   "source": [
    "data=pd.read_csv(\"water_potability.csv\")[:3000]\n",
    "data=data.sample(frac=1)\n",
    "print(data.info())\n",
    "labels=data[\"Potability\"]\n",
    "features=data.drop([\"Potability\"],axis=1)\n",
    "means=features.mean(axis=0)\n",
    "devs=features.std(axis=0)\n",
    "features=(features-means)/devs"
   ]
  },
  {
   "cell_type": "code",
   "execution_count": 21,
   "metadata": {},
   "outputs": [
    {
     "name": "stdout",
     "output_type": "stream",
     "text": [
      "(3000, 9) (3000, 2)\n"
     ]
    }
   ],
   "source": [
    "labels=pd.get_dummies(labels)\n",
    "features=tf.cast(tf.constant(features),dtype=tf.float32)\n",
    "labels=tf.cast(tf.constant(labels),dtype=tf.float32)\n",
    "print(features.shape,labels.shape)"
   ]
  },
  {
   "cell_type": "code",
   "execution_count": 22,
   "metadata": {},
   "outputs": [],
   "source": [
    "model=tf.keras.Sequential([\n",
    "    layers.Dense(4),\n",
    "    layers.Dense(2),\n",
    "    layers.Activation(\"softmax\")\n",
    "])"
   ]
  },
  {
   "cell_type": "code",
   "execution_count": 23,
   "metadata": {},
   "outputs": [],
   "source": [
    "model.build(input_shape=(3000,9))"
   ]
  },
  {
   "cell_type": "code",
   "execution_count": 24,
   "metadata": {},
   "outputs": [],
   "source": [
    "model.compile(\n",
    "    optimizer=tf.keras.optimizers.Adam(),\n",
    "    loss=tf.keras.losses.categorical_crossentropy,\n",
    "    metrics=[\"accuracy\"]\n",
    ")"
   ]
  },
  {
   "cell_type": "code",
   "execution_count": 25,
   "metadata": {},
   "outputs": [
    {
     "name": "stdout",
     "output_type": "stream",
     "text": [
      "Epoch 1/10\n",
      "94/94 [==============================] - 1s 2ms/step - loss: nan - accuracy: 0.6277\n",
      "Epoch 2/10\n",
      "94/94 [==============================] - 0s 2ms/step - loss: nan - accuracy: 0.6270\n",
      "Epoch 3/10\n",
      "94/94 [==============================] - 0s 2ms/step - loss: nan - accuracy: 0.6270\n",
      "Epoch 4/10\n",
      "94/94 [==============================] - 0s 2ms/step - loss: nan - accuracy: 0.6270\n",
      "Epoch 5/10\n",
      "94/94 [==============================] - 0s 2ms/step - loss: nan - accuracy: 0.6270\n",
      "Epoch 6/10\n",
      "94/94 [==============================] - 0s 1ms/step - loss: nan - accuracy: 0.6270\n",
      "Epoch 7/10\n",
      "94/94 [==============================] - 0s 1ms/step - loss: nan - accuracy: 0.6270\n",
      "Epoch 8/10\n",
      "94/94 [==============================] - 0s 1ms/step - loss: nan - accuracy: 0.6270\n",
      "Epoch 9/10\n",
      "94/94 [==============================] - 0s 2ms/step - loss: nan - accuracy: 0.6270\n",
      "Epoch 10/10\n",
      "94/94 [==============================] - 0s 2ms/step - loss: nan - accuracy: 0.6270\n"
     ]
    },
    {
     "data": {
      "text/plain": [
       "<keras.callbacks.History at 0x23112da3820>"
      ]
     },
     "execution_count": 25,
     "metadata": {},
     "output_type": "execute_result"
    }
   ],
   "source": [
    "model.fit(\n",
    "    features,\n",
    "    labels,\n",
    "    epochs=10\n",
    ")"
   ]
  },
  {
   "cell_type": "code",
   "execution_count": 26,
   "metadata": {},
   "outputs": [
    {
     "name": "stdout",
     "output_type": "stream",
     "text": [
      "94/94 [==============================] - 0s 1ms/step\n",
      "[[nan nan]\n",
      " [nan nan]\n",
      " [nan nan]\n",
      " ...\n",
      " [nan nan]\n",
      " [nan nan]\n",
      " [nan nan]]\n"
     ]
    }
   ],
   "source": [
    "preds=model.predict(features)\n",
    "print(preds)"
   ]
  },
  {
   "cell_type": "code",
   "execution_count": 27,
   "metadata": {},
   "outputs": [],
   "source": [
    "def predict(features):\n",
    "    feature=tf.cast(tf.constant([features]),tf.float32)\n",
    "    features=(features-means)/devs\n",
    "    pred=model.predict(features)\n",
    "    if pred[0,0]>0.5:\n",
    "        return \"potable\"\n",
    "    else:\n",
    "        return \"not potable\"\n"
   ]
  }
 ],
 "metadata": {
  "kernelspec": {
   "display_name": "Python 3.10.7 64-bit",
   "language": "python",
   "name": "python3"
  },
  "language_info": {
   "codemirror_mode": {
    "name": "ipython",
    "version": 3
   },
   "file_extension": ".py",
   "mimetype": "text/x-python",
   "name": "python",
   "nbconvert_exporter": "python",
   "pygments_lexer": "ipython3",
   "version": "3.10.7 (tags/v3.10.7:6cc6b13, Sep  5 2022, 14:08:36) [MSC v.1933 64 bit (AMD64)]"
  },
  "orig_nbformat": 4,
  "vscode": {
   "interpreter": {
    "hash": "f5d699ed7033eb9bc3126255fcdeda0e5e418da259f29be46e4ae73b871cb644"
   }
  }
 },
 "nbformat": 4,
 "nbformat_minor": 2
}
